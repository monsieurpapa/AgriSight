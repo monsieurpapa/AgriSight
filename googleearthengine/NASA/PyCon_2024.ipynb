{
 "cells": [
  {
   "cell_type": "markdown",
   "metadata": {
    "id": "sDw-eLMrXgy7"
   },
   "source": [
    "## **Abstract**"
   ]
  },
  {
   "cell_type": "markdown",
   "metadata": {
    "id": "pYwplQmLXgv-"
   },
   "source": [
    "This workshop is at the crossroads of data science and environmental science. We will start with concise introduction to remote sensing. We will cover the basics of Earth Engine data types and how to analyze, and export Earth Engine NDVI data in a Jupyter environment using geemap.  and Google Earth Engine, followed by hands-on experience in utilizing Earth Engine data for collecting historical NDVI values, analyzing NDVI trends, and forecasting future NDVI patterns."
   ]
  },
  {
   "cell_type": "markdown",
   "metadata": {
    "id": "B6kbeZeIXgtg"
   },
   "source": [
    "## **Terms**\n",
    "-  **Remote Sensing** -> process of acquiring information about an object without coming into direct contact with it\n",
    "-  **Normalized Difference Vegetation Index** -> metric for quantifying the health and density of vegetation using sensor data.\n",
    "-  **Earth Engine** -> Google Earth Engine is a cloud-based platform for geospatial analysis and data visualizations\n",
    "-  **geemap** -> Python package for interactive geospatial analysis and visualization with Google Earth Engine"
   ]
  },
  {
   "cell_type": "markdown",
   "metadata": {
    "id": "74DzutPac75t"
   },
   "source": [
    "## **Prerequisites**\n",
    "\n",
    "To use geemap and the Earth Engine Python API, you must [register](https://colab.research.google.com/corgiredirector?site=https%3A%2F%2Fcode.earthengine.google.com%2Fregister) for an Earth Engine account and follow the instructions [here](https://colab.research.google.com/corgiredirector?site=https%3A%2F%2Fdocs.google.com%2Fdocument%2Fd%2F1ZGSmrNm6_baqd8CHt33kIBWOlvkh-HLr46bODgJN1h0%2Fedit%3Fusp%3Dsharing) to create a Cloud Project. Earth Engine is free for noncommercial and research use."
   ]
  },
  {
   "cell_type": "markdown",
   "metadata": {
    "id": "HgeMaj1ddLPL"
   },
   "source": [
    "### **Install/upgrade  packages**\n",
    "\n",
    "\n",
    "The geemap package is pre-installed in Google Colab and is updated to the latest minor or major release every few weeks.\n",
    "\n"
   ]
  },
  {
   "cell_type": "code",
   "execution_count": 1,
   "metadata": {
    "id": "wp8p7e-kdTFg"
   },
   "outputs": [
    {
     "name": "stdout",
     "output_type": "stream",
     "text": [
      "Requirement already satisfied: earthengine-api in c:\\users\\yves zigashane\\anaconda3\\envs\\gee\\lib\\site-packages (1.5.3)\n",
      "Requirement already satisfied: geetools in c:\\users\\yves zigashane\\anaconda3\\envs\\gee\\lib\\site-packages (1.12.0)\n",
      "Requirement already satisfied: google-cloud-storage in c:\\users\\yves zigashane\\anaconda3\\envs\\gee\\lib\\site-packages (from earthengine-api) (3.0.0)\n",
      "Requirement already satisfied: google-api-python-client>=1.12.1 in c:\\users\\yves zigashane\\anaconda3\\envs\\gee\\lib\\site-packages (from earthengine-api) (2.161.0)\n",
      "Requirement already satisfied: google-auth>=1.4.1 in c:\\users\\yves zigashane\\anaconda3\\envs\\gee\\lib\\site-packages (from earthengine-api) (2.38.0)\n",
      "Requirement already satisfied: google-auth-httplib2>=0.0.3 in c:\\users\\yves zigashane\\anaconda3\\envs\\gee\\lib\\site-packages (from earthengine-api) (0.2.0)\n",
      "Requirement already satisfied: httplib2<1dev,>=0.9.2 in c:\\users\\yves zigashane\\anaconda3\\envs\\gee\\lib\\site-packages (from earthengine-api) (0.22.0)\n",
      "Requirement already satisfied: requests in c:\\users\\yves zigashane\\anaconda3\\envs\\gee\\lib\\site-packages (from earthengine-api) (2.32.3)\n",
      "Requirement already satisfied: anyascii in c:\\users\\yves zigashane\\anaconda3\\envs\\gee\\lib\\site-packages (from geetools) (0.3.2)\n",
      "Requirement already satisfied: deprecated in c:\\users\\yves zigashane\\anaconda3\\envs\\gee\\lib\\site-packages (from geetools) (1.2.18)\n",
      "Requirement already satisfied: ee-extra in c:\\users\\yves zigashane\\anaconda3\\envs\\gee\\lib\\site-packages (from geetools) (0.0.15)\n",
      "Requirement already satisfied: geopandas in c:\\users\\yves zigashane\\anaconda3\\envs\\gee\\lib\\site-packages (from geetools) (1.0.1)\n",
      "Requirement already satisfied: matplotlib in c:\\users\\yves zigashane\\anaconda3\\envs\\gee\\lib\\site-packages (from geetools) (3.10.0)\n",
      "Requirement already satisfied: pandas in c:\\users\\yves zigashane\\anaconda3\\envs\\gee\\lib\\site-packages (from geetools) (2.2.3)\n",
      "Requirement already satisfied: xee>=0.0.11 in c:\\users\\yves zigashane\\anaconda3\\envs\\gee\\lib\\site-packages (from geetools) (0.0.20)\n",
      "Requirement already satisfied: yamlable in c:\\users\\yves zigashane\\anaconda3\\envs\\gee\\lib\\site-packages (from geetools) (1.1.1)\n",
      "Requirement already satisfied: google-api-core!=2.0.*,!=2.1.*,!=2.2.*,!=2.3.0,<3.0.0.dev0,>=1.31.5 in c:\\users\\yves zigashane\\anaconda3\\envs\\gee\\lib\\site-packages (from google-api-python-client>=1.12.1->earthengine-api) (2.24.1)\n",
      "Requirement already satisfied: uritemplate<5,>=3.0.1 in c:\\users\\yves zigashane\\anaconda3\\envs\\gee\\lib\\site-packages (from google-api-python-client>=1.12.1->earthengine-api) (4.1.1)\n",
      "Requirement already satisfied: cachetools<6.0,>=2.0.0 in c:\\users\\yves zigashane\\anaconda3\\envs\\gee\\lib\\site-packages (from google-auth>=1.4.1->earthengine-api) (5.5.2)\n",
      "Requirement already satisfied: pyasn1-modules>=0.2.1 in c:\\users\\yves zigashane\\anaconda3\\envs\\gee\\lib\\site-packages (from google-auth>=1.4.1->earthengine-api) (0.4.1)\n",
      "Requirement already satisfied: rsa<5,>=3.1.4 in c:\\users\\yves zigashane\\anaconda3\\envs\\gee\\lib\\site-packages (from google-auth>=1.4.1->earthengine-api) (4.9)\n",
      "Requirement already satisfied: pyparsing!=3.0.0,!=3.0.1,!=3.0.2,!=3.0.3,<4,>=2.4.2 in c:\\users\\yves zigashane\\anaconda3\\envs\\gee\\lib\\site-packages (from httplib2<1dev,>=0.9.2->earthengine-api) (3.2.1)\n",
      "Requirement already satisfied: xarray[parallel] in c:\\users\\yves zigashane\\anaconda3\\envs\\gee\\lib\\site-packages (from xee>=0.0.11->geetools) (2025.1.2)\n",
      "Requirement already satisfied: pyproj in c:\\users\\yves zigashane\\anaconda3\\envs\\gee\\lib\\site-packages (from xee>=0.0.11->geetools) (3.6.1)\n",
      "Requirement already satisfied: affine in c:\\users\\yves zigashane\\anaconda3\\envs\\gee\\lib\\site-packages (from xee>=0.0.11->geetools) (2.4.0)\n",
      "Requirement already satisfied: wrapt<2,>=1.10 in c:\\users\\yves zigashane\\anaconda3\\envs\\gee\\lib\\site-packages (from deprecated->geetools) (1.17.2)\n",
      "Requirement already satisfied: numpy>=1.22 in c:\\users\\yves zigashane\\anaconda3\\envs\\gee\\lib\\site-packages (from geopandas->geetools) (1.26.4)\n",
      "Requirement already satisfied: pyogrio>=0.7.2 in c:\\users\\yves zigashane\\anaconda3\\envs\\gee\\lib\\site-packages (from geopandas->geetools) (0.7.2)\n",
      "Requirement already satisfied: packaging in c:\\users\\yves zigashane\\anaconda3\\envs\\gee\\lib\\site-packages (from geopandas->geetools) (24.2)\n",
      "Requirement already satisfied: shapely>=2.0.0 in c:\\users\\yves zigashane\\anaconda3\\envs\\gee\\lib\\site-packages (from geopandas->geetools) (2.0.4)\n",
      "Requirement already satisfied: python-dateutil>=2.8.2 in c:\\users\\yves zigashane\\anaconda3\\envs\\gee\\lib\\site-packages (from pandas->geetools) (2.9.0.post0)\n",
      "Requirement already satisfied: pytz>=2020.1 in c:\\users\\yves zigashane\\anaconda3\\envs\\gee\\lib\\site-packages (from pandas->geetools) (2024.1)\n",
      "Requirement already satisfied: tzdata>=2022.7 in c:\\users\\yves zigashane\\anaconda3\\envs\\gee\\lib\\site-packages (from pandas->geetools) (2025.1)\n",
      "Requirement already satisfied: google-cloud-core<3.0dev,>=2.3.0 in c:\\users\\yves zigashane\\anaconda3\\envs\\gee\\lib\\site-packages (from google-cloud-storage->earthengine-api) (2.4.1)\n",
      "Requirement already satisfied: google-resumable-media>=2.7.2 in c:\\users\\yves zigashane\\anaconda3\\envs\\gee\\lib\\site-packages (from google-cloud-storage->earthengine-api) (2.7.2)\n",
      "Requirement already satisfied: google-crc32c<2.0dev,>=1.0 in c:\\users\\yves zigashane\\anaconda3\\envs\\gee\\lib\\site-packages (from google-cloud-storage->earthengine-api) (1.1.2)\n",
      "Requirement already satisfied: charset_normalizer<4,>=2 in c:\\users\\yves zigashane\\anaconda3\\envs\\gee\\lib\\site-packages (from requests->earthengine-api) (3.4.1)\n",
      "Requirement already satisfied: idna<4,>=2.5 in c:\\users\\yves zigashane\\anaconda3\\envs\\gee\\lib\\site-packages (from requests->earthengine-api) (3.10)\n",
      "Requirement already satisfied: urllib3<3,>=1.21.1 in c:\\users\\yves zigashane\\anaconda3\\envs\\gee\\lib\\site-packages (from requests->earthengine-api) (2.3.0)\n",
      "Requirement already satisfied: certifi>=2017.4.17 in c:\\users\\yves zigashane\\anaconda3\\envs\\gee\\lib\\site-packages (from requests->earthengine-api) (2025.1.31)\n",
      "Requirement already satisfied: contourpy>=1.0.1 in c:\\users\\yves zigashane\\anaconda3\\envs\\gee\\lib\\site-packages (from matplotlib->geetools) (1.3.1)\n",
      "Requirement already satisfied: cycler>=0.10 in c:\\users\\yves zigashane\\anaconda3\\envs\\gee\\lib\\site-packages (from matplotlib->geetools) (0.12.1)\n",
      "Requirement already satisfied: fonttools>=4.22.0 in c:\\users\\yves zigashane\\anaconda3\\envs\\gee\\lib\\site-packages (from matplotlib->geetools) (4.56.0)\n",
      "Requirement already satisfied: kiwisolver>=1.3.1 in c:\\users\\yves zigashane\\anaconda3\\envs\\gee\\lib\\site-packages (from matplotlib->geetools) (1.4.7)\n",
      "Requirement already satisfied: pillow>=8 in c:\\users\\yves zigashane\\anaconda3\\envs\\gee\\lib\\site-packages (from matplotlib->geetools) (10.3.0)\n",
      "Requirement already satisfied: PyYaml in c:\\users\\yves zigashane\\anaconda3\\envs\\gee\\lib\\site-packages (from yamlable->geetools) (6.0.2)\n",
      "Requirement already satisfied: six in c:\\users\\yves zigashane\\anaconda3\\envs\\gee\\lib\\site-packages (from yamlable->geetools) (1.17.0)\n",
      "Requirement already satisfied: googleapis-common-protos<2.0.dev0,>=1.56.2 in c:\\users\\yves zigashane\\anaconda3\\envs\\gee\\lib\\site-packages (from google-api-core!=2.0.*,!=2.1.*,!=2.2.*,!=2.3.0,<3.0.0.dev0,>=1.31.5->google-api-python-client>=1.12.1->earthengine-api) (1.68.0)\n",
      "Requirement already satisfied: protobuf!=3.20.0,!=3.20.1,!=4.21.0,!=4.21.1,!=4.21.2,!=4.21.3,!=4.21.4,!=4.21.5,<6.0.0.dev0,>=3.19.5 in c:\\users\\yves zigashane\\anaconda3\\envs\\gee\\lib\\site-packages (from google-api-core!=2.0.*,!=2.1.*,!=2.2.*,!=2.3.0,<3.0.0.dev0,>=1.31.5->google-api-python-client>=1.12.1->earthengine-api) (4.25.3)\n",
      "Requirement already satisfied: proto-plus<2.0.0dev,>=1.22.3 in c:\\users\\yves zigashane\\anaconda3\\envs\\gee\\lib\\site-packages (from google-api-core!=2.0.*,!=2.1.*,!=2.2.*,!=2.3.0,<3.0.0.dev0,>=1.31.5->google-api-python-client>=1.12.1->earthengine-api) (1.26.0)\n",
      "Requirement already satisfied: cffi>=1.0.0 in c:\\users\\yves zigashane\\anaconda3\\envs\\gee\\lib\\site-packages (from google-crc32c<2.0dev,>=1.0->google-cloud-storage->earthengine-api) (1.17.1)\n",
      "Requirement already satisfied: pyasn1<0.7.0,>=0.4.6 in c:\\users\\yves zigashane\\anaconda3\\envs\\gee\\lib\\site-packages (from pyasn1-modules>=0.2.1->google-auth>=1.4.1->earthengine-api) (0.6.1)\n",
      "Requirement already satisfied: dask[complete] in c:\\users\\yves zigashane\\anaconda3\\envs\\gee\\lib\\site-packages (from xarray[parallel]->xee>=0.0.11->geetools) (2025.2.0)\n",
      "Requirement already satisfied: pycparser in c:\\users\\yves zigashane\\anaconda3\\envs\\gee\\lib\\site-packages (from cffi>=1.0.0->google-crc32c<2.0dev,>=1.0->google-cloud-storage->earthengine-api) (2.22)\n",
      "Requirement already satisfied: click>=8.1 in c:\\users\\yves zigashane\\anaconda3\\envs\\gee\\lib\\site-packages (from dask[complete]; extra == \"parallel\"->xarray[parallel]->xee>=0.0.11->geetools) (8.1.8)\n",
      "Requirement already satisfied: cloudpickle>=3.0.0 in c:\\users\\yves zigashane\\anaconda3\\envs\\gee\\lib\\site-packages (from dask[complete]; extra == \"parallel\"->xarray[parallel]->xee>=0.0.11->geetools) (3.1.1)\n",
      "Requirement already satisfied: fsspec>=2021.09.0 in c:\\users\\yves zigashane\\anaconda3\\envs\\gee\\lib\\site-packages (from dask[complete]; extra == \"parallel\"->xarray[parallel]->xee>=0.0.11->geetools) (2025.2.0)\n",
      "Requirement already satisfied: partd>=1.4.0 in c:\\users\\yves zigashane\\anaconda3\\envs\\gee\\lib\\site-packages (from dask[complete]; extra == \"parallel\"->xarray[parallel]->xee>=0.0.11->geetools) (1.4.2)\n",
      "Requirement already satisfied: toolz>=0.10.0 in c:\\users\\yves zigashane\\anaconda3\\envs\\gee\\lib\\site-packages (from dask[complete]; extra == \"parallel\"->xarray[parallel]->xee>=0.0.11->geetools) (1.0.0)\n",
      "Requirement already satisfied: importlib_metadata>=4.13.0 in c:\\users\\yves zigashane\\anaconda3\\envs\\gee\\lib\\site-packages (from dask[complete]; extra == \"parallel\"->xarray[parallel]->xee>=0.0.11->geetools) (8.6.1)\n",
      "Requirement already satisfied: pyarrow>=14.0.1 in c:\\users\\yves zigashane\\anaconda3\\envs\\gee\\lib\\site-packages (from dask[complete]; extra == \"parallel\"->xarray[parallel]->xee>=0.0.11->geetools) (15.0.2)\n",
      "Requirement already satisfied: lz4>=4.3.2 in c:\\users\\yves zigashane\\anaconda3\\envs\\gee\\lib\\site-packages (from dask[complete]; extra == \"parallel\"->xarray[parallel]->xee>=0.0.11->geetools) (4.4.3)\n",
      "Requirement already satisfied: colorama in c:\\users\\yves zigashane\\anaconda3\\envs\\gee\\lib\\site-packages (from click>=8.1->dask[complete]; extra == \"parallel\"->xarray[parallel]->xee>=0.0.11->geetools) (0.4.6)\n",
      "Requirement already satisfied: zipp>=3.20 in c:\\users\\yves zigashane\\anaconda3\\envs\\gee\\lib\\site-packages (from importlib_metadata>=4.13.0->dask[complete]; extra == \"parallel\"->xarray[parallel]->xee>=0.0.11->geetools) (3.21.0)\n",
      "Requirement already satisfied: locket in c:\\users\\yves zigashane\\anaconda3\\envs\\gee\\lib\\site-packages (from partd>=1.4.0->dask[complete]; extra == \"parallel\"->xarray[parallel]->xee>=0.0.11->geetools) (1.0.0)\n",
      "Requirement already satisfied: distributed==2025.2.0 in c:\\users\\yves zigashane\\anaconda3\\envs\\gee\\lib\\site-packages (from dask[complete]->xarray[parallel]->xee>=0.0.11->geetools) (2025.2.0)\n",
      "Requirement already satisfied: bokeh>=3.1.0 in c:\\users\\yves zigashane\\anaconda3\\envs\\gee\\lib\\site-packages (from dask[complete]->xarray[parallel]->xee>=0.0.11->geetools) (3.6.3)\n",
      "Requirement already satisfied: jinja2>=2.10.3 in c:\\users\\yves zigashane\\anaconda3\\envs\\gee\\lib\\site-packages (from dask[complete]->xarray[parallel]->xee>=0.0.11->geetools) (3.1.5)\n",
      "Requirement already satisfied: msgpack>=1.0.2 in c:\\users\\yves zigashane\\anaconda3\\envs\\gee\\lib\\site-packages (from distributed==2025.2.0->dask[complete]->xarray[parallel]->xee>=0.0.11->geetools) (1.1.0)\n",
      "Requirement already satisfied: psutil>=5.8.0 in c:\\users\\yves zigashane\\anaconda3\\envs\\gee\\lib\\site-packages (from distributed==2025.2.0->dask[complete]->xarray[parallel]->xee>=0.0.11->geetools) (6.1.1)\n",
      "Requirement already satisfied: sortedcontainers>=2.0.5 in c:\\users\\yves zigashane\\anaconda3\\envs\\gee\\lib\\site-packages (from distributed==2025.2.0->dask[complete]->xarray[parallel]->xee>=0.0.11->geetools) (2.4.0)\n",
      "Requirement already satisfied: tblib>=1.6.0 in c:\\users\\yves zigashane\\anaconda3\\envs\\gee\\lib\\site-packages (from distributed==2025.2.0->dask[complete]->xarray[parallel]->xee>=0.0.11->geetools) (3.0.0)\n",
      "Requirement already satisfied: tornado>=6.2.0 in c:\\users\\yves zigashane\\anaconda3\\envs\\gee\\lib\\site-packages (from distributed==2025.2.0->dask[complete]->xarray[parallel]->xee>=0.0.11->geetools) (6.4.2)\n",
      "Requirement already satisfied: zict>=3.0.0 in c:\\users\\yves zigashane\\anaconda3\\envs\\gee\\lib\\site-packages (from distributed==2025.2.0->dask[complete]->xarray[parallel]->xee>=0.0.11->geetools) (3.0.0)\n",
      "Requirement already satisfied: xyzservices>=2021.09.1 in c:\\users\\yves zigashane\\anaconda3\\envs\\gee\\lib\\site-packages (from bokeh>=3.1.0->dask[complete]->xarray[parallel]->xee>=0.0.11->geetools) (2025.1.0)\n",
      "Requirement already satisfied: MarkupSafe>=2.0 in c:\\users\\yves zigashane\\anaconda3\\envs\\gee\\lib\\site-packages (from jinja2>=2.10.3->dask[complete]->xarray[parallel]->xee>=0.0.11->geetools) (3.0.2)\n"
     ]
    }
   ],
   "source": [
    "!pip install earthengine-api geetools"
   ]
  },
  {
   "cell_type": "markdown",
   "metadata": {
    "id": "QX_zJvuDuRxe"
   },
   "source": [
    "### **Local Installation**\n",
    "\n",
    "Note that some geemap features do not work properly with Google Colab. If you are familiar with Anaconda or Miniconda, it is recommended to create a new conda environment to install geemap and its optional dependencies on your local computer.\n",
    "\n",
    "\n",
    "\n",
    "```\n",
    "conda create -n gee python=3.11\n",
    "conda activate gee\n",
    "conda install -c conda-forge mamba\n",
    "mamba install -c conda-forge geemap pygis\n",
    "```\n",
    "\n"
   ]
  },
  {
   "cell_type": "code",
   "execution_count": 2,
   "metadata": {
    "id": "q-TaepHh14zq"
   },
   "outputs": [],
   "source": [
    "import geemap\n",
    "import ee\n",
    "import pandas as pd\n",
    "import matplotlib.pyplot as plt"
   ]
  },
  {
   "cell_type": "code",
   "execution_count": 10,
   "metadata": {
    "colab": {
     "base_uri": "https://localhost:8080/",
     "height": 17
    },
    "id": "W92ijNCx2Aah",
    "outputId": "dc227eab-b0d9-4548-f419-53bfbb07638d"
   },
   "outputs": [
    {
     "data": {
      "text/html": [
       "\n",
       "            <style>\n",
       "                .geemap-dark {\n",
       "                    --jp-widgets-color: white;\n",
       "                    --jp-widgets-label-color: white;\n",
       "                    --jp-ui-font-color1: white;\n",
       "                    --jp-layout-color2: #454545;\n",
       "                    background-color: #383838;\n",
       "                }\n",
       "\n",
       "                .geemap-dark .jupyter-button {\n",
       "                    --jp-layout-color3: #383838;\n",
       "                }\n",
       "\n",
       "                .geemap-colab {\n",
       "                    background-color: var(--colab-primary-surface-color, white);\n",
       "                }\n",
       "\n",
       "                .geemap-colab .jupyter-button {\n",
       "                    --jp-layout-color3: var(--colab-primary-surface-color, white);\n",
       "                }\n",
       "            </style>\n",
       "            "
      ],
      "text/plain": [
       "<IPython.core.display.HTML object>"
      ]
     },
     "metadata": {},
     "output_type": "display_data"
    }
   ],
   "source": [
    "# Authenticate to the Earth Engine servers\n",
    "ee.Authenticate()\n",
    "\n",
    "# Initialize the Earth Engine API\n",
    "ee.Initialize(project=\"ee-dieudonneishara\")"
   ]
  },
  {
   "cell_type": "markdown",
   "metadata": {
    "id": "UfK2mq3xdcYn"
   },
   "source": [
    "## **Initialize/create interactive map**"
   ]
  },
  {
   "cell_type": "code",
   "execution_count": 8,
   "metadata": {
    "colab": {
     "background_save": true,
     "base_uri": "https://localhost:8080/",
     "height": 621,
     "referenced_widgets": [
      "26936842f32a4fcba974d1fb3ac6a6f3"
     ]
    },
    "id": "T4dC3b9C2f0h",
    "outputId": "cb8ac519-7538-4526-8a6d-9c6f4e368b42"
   },
   "outputs": [
    {
     "data": {
      "text/html": [
       "\n",
       "            <style>\n",
       "                .geemap-dark {\n",
       "                    --jp-widgets-color: white;\n",
       "                    --jp-widgets-label-color: white;\n",
       "                    --jp-ui-font-color1: white;\n",
       "                    --jp-layout-color2: #454545;\n",
       "                    background-color: #383838;\n",
       "                }\n",
       "\n",
       "                .geemap-dark .jupyter-button {\n",
       "                    --jp-layout-color3: #383838;\n",
       "                }\n",
       "\n",
       "                .geemap-colab {\n",
       "                    background-color: var(--colab-primary-surface-color, white);\n",
       "                }\n",
       "\n",
       "                .geemap-colab .jupyter-button {\n",
       "                    --jp-layout-color3: var(--colab-primary-surface-color, white);\n",
       "                }\n",
       "            </style>\n",
       "            "
      ],
      "text/plain": [
       "<IPython.core.display.HTML object>"
      ]
     },
     "metadata": {},
     "output_type": "display_data"
    },
    {
     "data": {
      "application/vnd.jupyter.widget-view+json": {
       "model_id": "9ac0f761969244a0b5adecedd306b04a",
       "version_major": 2,
       "version_minor": 0
      },
      "text/plain": [
       "Map(center=[-2.88, 23.65], controls=(WidgetControl(options=['position', 'transparent_bg'], widget=SearchDataGU…"
      ]
     },
     "execution_count": 8,
     "metadata": {},
     "output_type": "execute_result"
    }
   ],
   "source": [
    "Map = geemap.Map(center=[-2.88, 23.65], zoom=6, height=600)\n",
    "Map"
   ]
  },
  {
   "cell_type": "markdown",
   "metadata": {
    "id": "pbZ7CCK-d4it"
   },
   "source": [
    "## **Define Region of Interest**"
   ]
  },
  {
   "cell_type": "markdown",
   "metadata": {
    "id": "Ia-eY3k7zgLm"
   },
   "source": [
    "## **Data Collection**\n",
    "## **Earth Engine Collections**\n",
    "\n",
    "In the Earth Engine Data Catalog, datasets can be of different types:\n",
    "- Features which are geometric objects with a list of properties. For example, a watershed with some properties such as name and area, is an ee.Feature.\n",
    "\n",
    "- Images which are like features, but may include several bands. For example, the ground elevation given by the USGS here is an ee.Image.\n",
    "- Collections which are groups of features or images. For example, the Global Administrative Unit Layers giving administrative boundaries is a ee.FeatureCollection and the MODIS Land Surface Temperature dataset is an ee.ImageCollection.\n"
   ]
  },
  {
   "cell_type": "code",
   "execution_count": 11,
   "metadata": {
    "id": "TeqLW6MrzS2r"
   },
   "outputs": [
    {
     "data": {
      "text/html": [
       "\n",
       "            <style>\n",
       "                .geemap-dark {\n",
       "                    --jp-widgets-color: white;\n",
       "                    --jp-widgets-label-color: white;\n",
       "                    --jp-ui-font-color1: white;\n",
       "                    --jp-layout-color2: #454545;\n",
       "                    background-color: #383838;\n",
       "                }\n",
       "\n",
       "                .geemap-dark .jupyter-button {\n",
       "                    --jp-layout-color3: #383838;\n",
       "                }\n",
       "\n",
       "                .geemap-colab {\n",
       "                    background-color: var(--colab-primary-surface-color, white);\n",
       "                }\n",
       "\n",
       "                .geemap-colab .jupyter-button {\n",
       "                    --jp-layout-color3: var(--colab-primary-surface-color, white);\n",
       "                }\n",
       "            </style>\n",
       "            "
      ],
      "text/plain": [
       "<IPython.core.display.HTML object>"
      ]
     },
     "metadata": {},
     "output_type": "display_data"
    }
   ],
   "source": [
    "bots = ee.FeatureCollection(\"FAO/GAUL/2015/level2\") \\\n",
    "           .filter(ee.Filter.eq('ADM0_NAME', 'Botswana'))"
   ]
  },
  {
   "cell_type": "code",
   "execution_count": 12,
   "metadata": {
    "colab": {
     "base_uri": "https://localhost:8080/",
     "height": 34
    },
    "id": "W7zrS3BWeUKe",
    "outputId": "63fad0e0-36e0-417a-ed74-aee22bb85ccd"
   },
   "outputs": [
    {
     "data": {
      "text/html": [
       "\n",
       "            <style>\n",
       "                .geemap-dark {\n",
       "                    --jp-widgets-color: white;\n",
       "                    --jp-widgets-label-color: white;\n",
       "                    --jp-ui-font-color1: white;\n",
       "                    --jp-layout-color2: #454545;\n",
       "                    background-color: #383838;\n",
       "                }\n",
       "\n",
       "                .geemap-dark .jupyter-button {\n",
       "                    --jp-layout-color3: #383838;\n",
       "                }\n",
       "\n",
       "                .geemap-colab {\n",
       "                    background-color: var(--colab-primary-surface-color, white);\n",
       "                }\n",
       "\n",
       "                .geemap-colab .jupyter-button {\n",
       "                    --jp-layout-color3: var(--colab-primary-surface-color, white);\n",
       "                }\n",
       "            </style>\n",
       "            "
      ],
      "text/plain": [
       "<IPython.core.display.HTML object>"
      ]
     },
     "metadata": {},
     "output_type": "display_data"
    },
    {
     "data": {
      "text/plain": [
       "[]"
      ]
     },
     "execution_count": 12,
     "metadata": {},
     "output_type": "execute_result"
    }
   ],
   "source": [
    "Map.draw_features"
   ]
  },
  {
   "cell_type": "code",
   "execution_count": 13,
   "metadata": {
    "colab": {
     "base_uri": "https://localhost:8080/",
     "height": 17
    },
    "id": "WAISyE-QeY9o",
    "outputId": "c19d9ef6-4494-4a75-bd64-14d628225750"
   },
   "outputs": [
    {
     "data": {
      "text/html": [
       "\n",
       "            <style>\n",
       "                .geemap-dark {\n",
       "                    --jp-widgets-color: white;\n",
       "                    --jp-widgets-label-color: white;\n",
       "                    --jp-ui-font-color1: white;\n",
       "                    --jp-layout-color2: #454545;\n",
       "                    background-color: #383838;\n",
       "                }\n",
       "\n",
       "                .geemap-dark .jupyter-button {\n",
       "                    --jp-layout-color3: #383838;\n",
       "                }\n",
       "\n",
       "                .geemap-colab {\n",
       "                    background-color: var(--colab-primary-surface-color, white);\n",
       "                }\n",
       "\n",
       "                .geemap-colab .jupyter-button {\n",
       "                    --jp-layout-color3: var(--colab-primary-surface-color, white);\n",
       "                }\n",
       "            </style>\n",
       "            "
      ],
      "text/plain": [
       "<IPython.core.display.HTML object>"
      ]
     },
     "metadata": {},
     "output_type": "display_data"
    }
   ],
   "source": [
    "roi = Map.draw_last_feature\n",
    "Map.addLayer(roi)\n",
    "\n",
    "#Map.addLayer(draw_last_feature, {}, 'Draw Last Feature')\n"
   ]
  },
  {
   "cell_type": "code",
   "execution_count": 14,
   "metadata": {
    "colab": {
     "base_uri": "https://localhost:8080/",
     "height": 764
    },
    "id": "B26hxzQDfsPa",
    "outputId": "a3c63e71-66f2-4165-8728-b01355621a62"
   },
   "outputs": [
    {
     "data": {
      "text/html": [
       "\n",
       "            <style>\n",
       "                .geemap-dark {\n",
       "                    --jp-widgets-color: white;\n",
       "                    --jp-widgets-label-color: white;\n",
       "                    --jp-ui-font-color1: white;\n",
       "                    --jp-layout-color2: #454545;\n",
       "                    background-color: #383838;\n",
       "                }\n",
       "\n",
       "                .geemap-dark .jupyter-button {\n",
       "                    --jp-layout-color3: #383838;\n",
       "                }\n",
       "\n",
       "                .geemap-colab {\n",
       "                    background-color: var(--colab-primary-surface-color, white);\n",
       "                }\n",
       "\n",
       "                .geemap-colab .jupyter-button {\n",
       "                    --jp-layout-color3: var(--colab-primary-surface-color, white);\n",
       "                }\n",
       "            </style>\n",
       "            "
      ],
      "text/plain": [
       "<IPython.core.display.HTML object>"
      ]
     },
     "metadata": {},
     "output_type": "display_data"
    },
    {
     "name": "stdout",
     "output_type": "stream",
     "text": [
      "None\n"
     ]
    }
   ],
   "source": [
    "print(roi)"
   ]
  },
  {
   "cell_type": "code",
   "execution_count": null,
   "metadata": {
    "colab": {
     "background_save": true,
     "base_uri": "https://localhost:8080/",
     "height": 17
    },
    "id": "wf9p2qXC2GxR",
    "outputId": "fe0c0c20-9408-4b51-b73d-3bd9d57923d1"
   },
   "outputs": [],
   "source": [
    "# Define the region of interest (Black Forest, Germany)\n",
    "roi = ee.Geometry.Polygon([\n",
    "                  [\n",
    "                    14.396761,\n",
    "                    -19.849394\n",
    "                  ],\n",
    "                  [\n",
    "                    15.188027,\n",
    "                    -26.529565\n",
    "                  ],\n",
    "                  [\n",
    "                    18.133294,\n",
    "                    -26.568877\n",
    "                  ],\n",
    "                  [\n",
    "                    17.166192,\n",
    "                    -19.87006\n",
    "                  ],\n",
    "                  [\n",
    "                    14.396761,\n",
    "                    -19.849394\n",
    "                  ]\n",
    "                ])"
   ]
  },
  {
   "cell_type": "markdown",
   "metadata": {
    "id": "1hqhWF6S2wX9"
   },
   "source": [
    "Moderate Resolution Imaging Spectroradiometer (MODIS) vegetation indices are designed to provide consistent spatial and temporal comparisons of vegetation conditions. Blue, red, and near-infrared reflectances"
   ]
  },
  {
   "cell_type": "code",
   "execution_count": null,
   "metadata": {
    "colab": {
     "background_save": true,
     "base_uri": "https://localhost:8080/",
     "height": 17
    },
    "id": "ZlST3G0G29Z4",
    "outputId": "6addd9c9-2d89-4a3e-e584-94cf1f1c7b64"
   },
   "outputs": [],
   "source": [
    "# Define MODIS NDVI collection\n",
    "modis_ndvi_collection = ee.ImageCollection('MODIS/006/MOD13A2') \\\n",
    "    .filterDate('2000-01-01', '2022-01-01') \\\n",
    "    .filterBounds(roi)\\\n",
    "    .select('NDVI')"
   ]
  },
  {
   "cell_type": "code",
   "execution_count": null,
   "metadata": {
    "colab": {
     "base_uri": "https://localhost:8080/",
     "height": 17
    },
    "id": "W2U47flyGDLU",
    "outputId": "00c3b421-795f-47a8-8528-ac0210603155"
   },
   "outputs": [],
   "source": [
    "def scale_factor(image):\n",
    "    # Scale factor for the MODIS MOD13Q1 product\n",
    "    return image.multiply(0.0001).copyProperties(image, ['system:time_start'])\n",
    "\n",
    "# Apply scale factor to the image collection\n",
    "modis_ndvi_collection_scaled = modis_ndvi_collection.map(scale_factor)"
   ]
  },
  {
   "cell_type": "code",
   "execution_count": null,
   "metadata": {
    "colab": {
     "base_uri": "https://localhost:8080/",
     "height": 17
    },
    "id": "zZ2a7CRK3Uis",
    "outputId": "35beed83-6309-41e9-8689-a954b3a00caf"
   },
   "outputs": [],
   "source": [
    "def calculate_mean_ndvi(image):\n",
    "    mean_ndvi = image.reduceRegion(\n",
    "        reducer=ee.Reducer.mean(),\n",
    "        geometry=roi,\n",
    "        scale=250,\n",
    "        maxPixels=1e9\n",
    "    )\n",
    "    return image.set('date', image.date().format()).set('mean_ndvi', mean_ndvi.get('NDVI'))"
   ]
  },
  {
   "cell_type": "code",
   "execution_count": null,
   "metadata": {
    "colab": {
     "base_uri": "https://localhost:8080/",
     "height": 17
    },
    "id": "Eed7RxcP3fUK",
    "outputId": "08ef4bd0-9f04-41ef-9ed5-f224a7cf58dc"
   },
   "outputs": [],
   "source": [
    "# Map the function over the scaled collection\n",
    "modis_ndvi_with_mean = modis_ndvi_collection_scaled.map(calculate_mean_ndvi)"
   ]
  },
  {
   "cell_type": "code",
   "execution_count": null,
   "metadata": {
    "colab": {
     "base_uri": "https://localhost:8080/",
     "height": 17
    },
    "id": "yLlgIVc6Ggx9",
    "outputId": "5445d00d-c65a-464b-8773-d9f62c8c97a9"
   },
   "outputs": [],
   "source": [
    "# Convert the image collection to a list\n",
    "modis_ndvi_list = modis_ndvi_with_mean.toList(modis_ndvi_with_mean.size())"
   ]
  },
  {
   "cell_type": "code",
   "execution_count": null,
   "metadata": {
    "colab": {
     "base_uri": "https://localhost:8080/",
     "height": 17
    },
    "id": "NdM1fPfP3mBf",
    "outputId": "a651ad07-37c4-40cc-842b-330d72d63cb3"
   },
   "outputs": [],
   "source": [
    "results = []\n",
    "\n",
    "# Iterate over the image collection list\n",
    "for i in range(modis_ndvi_list.size().getInfo()):\n",
    "    image = ee.Image(modis_ndvi_list.get(i))\n",
    "    date = image.get('date').getInfo()\n",
    "    mean_ndvi = image.get('mean_ndvi').getInfo()\n",
    "    results.append({'date': date, 'mean_ndvi': mean_ndvi})"
   ]
  },
  {
   "cell_type": "code",
   "execution_count": null,
   "metadata": {
    "colab": {
     "base_uri": "https://localhost:8080/",
     "height": 17
    },
    "id": "BMqtNbgZ3sZl",
    "outputId": "47b53266-bd3c-4875-e48e-dc1a6556f9e7"
   },
   "outputs": [],
   "source": [
    "df = pd.DataFrame(results)"
   ]
  },
  {
   "cell_type": "code",
   "execution_count": null,
   "metadata": {
    "colab": {
     "base_uri": "https://localhost:8080/",
     "height": 17
    },
    "id": "9JG2IxE_KBAy",
    "outputId": "216e0fea-9e27-4379-ec2e-ac182bd9bbaa"
   },
   "outputs": [],
   "source": [
    "df.to_csv(\"na-ndvi.csv\")"
   ]
  },
  {
   "cell_type": "markdown",
   "metadata": {
    "id": "-sv9BJ6Omzcq"
   },
   "source": [
    "## **Data Processing**\n"
   ]
  },
  {
   "cell_type": "code",
   "execution_count": null,
   "metadata": {
    "colab": {
     "base_uri": "https://localhost:8080/",
     "height": 363
    },
    "id": "tRqwGQvA616L",
    "outputId": "db26c117-61fe-4014-e8fc-f5762312b846"
   },
   "outputs": [],
   "source": [
    "df.head(10)"
   ]
  },
  {
   "cell_type": "code",
   "execution_count": null,
   "metadata": {
    "colab": {
     "base_uri": "https://localhost:8080/",
     "height": 173
    },
    "id": "zqlMFlJV63eH",
    "outputId": "0bb23663-3ccf-4987-8429-85b0a2bae514"
   },
   "outputs": [],
   "source": [
    "df.info()"
   ]
  },
  {
   "cell_type": "markdown",
   "metadata": {
    "id": "1glMxRX6rXcH"
   },
   "source": [
    "### **Check for missing values**\n"
   ]
  },
  {
   "cell_type": "code",
   "execution_count": null,
   "metadata": {
    "colab": {
     "base_uri": "https://localhost:8080/",
     "height": 34
    },
    "id": "-X63AB0J4Rkf",
    "outputId": "221e0d30-fb20-481f-d9b7-fff596e5b7dd"
   },
   "outputs": [],
   "source": [
    "print(f'There are {df.isna().sum().sum()} missing values in the entire dataset.')"
   ]
  },
  {
   "cell_type": "markdown",
   "metadata": {
    "id": "d33hcLgpri-2"
   },
   "source": [
    "### **Check for unique values**\n"
   ]
  },
  {
   "cell_type": "code",
   "execution_count": null,
   "metadata": {
    "colab": {
     "base_uri": "https://localhost:8080/",
     "height": 69
    },
    "id": "avVoiks74qct",
    "outputId": "acc68663-1e19-4983-d6ae-4f20387ecdb5"
   },
   "outputs": [],
   "source": [
    "#determine the number of unique categories in each variable\n",
    "df.nunique()"
   ]
  },
  {
   "cell_type": "markdown",
   "metadata": {
    "id": "XJlZztbdrm0h"
   },
   "source": [
    "### **Check if there values values > 1 and < -1**\n",
    "-  NDVI values typically range from -1 to 1, with higher values indicating healthier and more dense vegetation. Water takes values closer to -1, green\n",
    "vegetation takes values close to +1\n",
    "\n",
    "    -  Values close to 1 indicate dense and healthy vegetation, such as forests or agricultural fields with lush green vegetation.\n",
    "    -  Values around 0 indicate bare soil, rocks, or water bodies.\n",
    "    -  Negative values usually represent features such as water bodies or clouds.\n"
   ]
  },
  {
   "cell_type": "code",
   "execution_count": null,
   "metadata": {
    "colab": {
     "base_uri": "https://localhost:8080/",
     "height": 34
    },
    "id": "hGOZAeFQ4vUr",
    "outputId": "9f9d6426-26e6-4f10-85e4-b6ca69b68315"
   },
   "outputs": [],
   "source": [
    "invalid_values = df[(df['mean_ndvi'] > 1) | (df['mean_ndvi'] < -1)]\n",
    "\n",
    "if len(invalid_values) > 0:\n",
    "    print(\"There are invalid NDVI values:\")\n",
    "    print(invalid_values)\n",
    "else:\n",
    "    print(\"No invalid NDVI values found.\")"
   ]
  },
  {
   "cell_type": "markdown",
   "metadata": {
    "id": "NxLxjYMHs_5c"
   },
   "source": [
    "### **Data Conversions and Feature Engineering**"
   ]
  },
  {
   "cell_type": "code",
   "execution_count": null,
   "metadata": {
    "colab": {
     "base_uri": "https://localhost:8080/",
     "height": 17
    },
    "id": "g737G-ml5Fsd",
    "outputId": "975109b6-2e84-4ae5-9a7e-3906f778b4f0"
   },
   "outputs": [],
   "source": [
    "df['date'] = pd.to_datetime(df['date'])"
   ]
  },
  {
   "cell_type": "code",
   "execution_count": null,
   "metadata": {
    "colab": {
     "base_uri": "https://localhost:8080/",
     "height": 17
    },
    "id": "WFdTP4VB5aea",
    "outputId": "1e6edfd0-2dcd-47ff-a055-8fd989521bd1"
   },
   "outputs": [],
   "source": [
    "df['year'] = df['date'].dt.year\n",
    "df['month']= df['date'].dt.month"
   ]
  },
  {
   "cell_type": "code",
   "execution_count": null,
   "metadata": {
    "colab": {
     "base_uri": "https://localhost:8080/",
     "height": 104
    },
    "id": "DsEN29in5jDt",
    "outputId": "0d2403bd-5a99-4c38-9919-cae0f740be40"
   },
   "outputs": [],
   "source": [
    "df.max()\n"
   ]
  },
  {
   "cell_type": "code",
   "execution_count": null,
   "metadata": {
    "colab": {
     "base_uri": "https://localhost:8080/",
     "height": 237
    },
    "id": "lo9nHJPdOK_e",
    "outputId": "16c790b5-e8a6-437c-a546-83ac8716ca86"
   },
   "outputs": [],
   "source": [
    "df.head()"
   ]
  },
  {
   "cell_type": "code",
   "execution_count": null,
   "metadata": {
    "colab": {
     "base_uri": "https://localhost:8080/",
     "height": 17
    },
    "id": "mMRaNJ4xN9Im",
    "outputId": "36b71b80-c871-449f-904a-aef060e873b0"
   },
   "outputs": [],
   "source": [
    "df.interpolate(method='polynomial', order = 1, inplace = True)"
   ]
  },
  {
   "cell_type": "markdown",
   "metadata": {
    "id": "bSt5SHaptmSz"
   },
   "source": [
    "### **NDVI Time Series**"
   ]
  },
  {
   "cell_type": "code",
   "execution_count": null,
   "metadata": {
    "colab": {
     "base_uri": "https://localhost:8080/",
     "height": 495
    },
    "id": "vs3PvV4H5sBV",
    "outputId": "fb388aba-4d16-4c25-deb8-53ba5f97ab28"
   },
   "outputs": [],
   "source": [
    "plt.figure(figsize=(10, 6))\n",
    "plt.plot(df['date'], df['mean_ndvi'], marker='o', linestyle='-', color='g')\n",
    "plt.title('NDVI Over Time')\n",
    "plt.xlabel('Date')\n",
    "plt.ylabel('NDVI Value')\n",
    "plt.grid(True)\n",
    "plt.show()"
   ]
  },
  {
   "cell_type": "code",
   "execution_count": null,
   "metadata": {
    "colab": {
     "base_uri": "https://localhost:8080/",
     "height": 564
    },
    "id": "VQarRBZD1TW0",
    "outputId": "019a0967-8933-4afb-8dde-36b043f9daa8"
   },
   "outputs": [],
   "source": [
    "average_ndvi = df.groupby('month')['mean_ndvi'].mean().reset_index()\n",
    "average_ndvi['month'] = average_ndvi['month'].astype(int)\n",
    "plt.figure(figsize=(10, 6))\n",
    "plt.plot(average_ndvi['month'], average_ndvi['mean_ndvi'], marker='o', linestyle='-', color='b')\n",
    "plt.xlabel('Moonth')\n",
    "plt.ylabel('Average NDVI')\n",
    "plt.title('Average NDVI Over Months of the Year')\n",
    "plt.grid(True)\n",
    "plt.show()"
   ]
  },
  {
   "cell_type": "code",
   "execution_count": null,
   "metadata": {
    "colab": {
     "base_uri": "https://localhost:8080/",
     "height": 564
    },
    "id": "sI862bdO1GmE",
    "outputId": "26beaac3-576d-42a8-a724-368101b5fa23"
   },
   "outputs": [],
   "source": [
    "average_ndvi = df.groupby('year')['mean_ndvi'].mean().reset_index()\n",
    "average_ndvi['year'] = average_ndvi['year'].astype(int)\n",
    "plt.figure(figsize=(10, 6))\n",
    "plt.plot(average_ndvi['year'], average_ndvi['mean_ndvi'], marker='o', linestyle='-', color='b')\n",
    "plt.xlabel('Year')\n",
    "plt.ylabel('Average NDVI')\n",
    "plt.title('Average NDVI Over Years')\n",
    "plt.grid(True)\n",
    "plt.show()"
   ]
  },
  {
   "cell_type": "markdown",
   "metadata": {
    "id": "M0pRmuh8z6vF"
   },
   "source": [
    "### **Seasonal decomposition**\n",
    "\n",
    "Seasonal decomposition is a statistical technique used to break down a time series into its underlying components, including trend, seasonality, and residual (or error) components."
   ]
  },
  {
   "cell_type": "code",
   "execution_count": null,
   "metadata": {
    "colab": {
     "base_uri": "https://localhost:8080/",
     "height": 17
    },
    "id": "Z5dYpFGy5-Fi",
    "outputId": "bd9034de-377a-4098-ebaf-a35e00592e7e"
   },
   "outputs": [],
   "source": [
    "df = df.set_index('date')"
   ]
  },
  {
   "cell_type": "code",
   "execution_count": null,
   "metadata": {
    "colab": {
     "base_uri": "https://localhost:8080/",
     "height": 714
    },
    "id": "wXXAsDCU6MDo",
    "outputId": "f6a2f339-e970-4265-a5e8-b8b442e95fd3"
   },
   "outputs": [],
   "source": [
    "from statsmodels.tsa.seasonal import seasonal_decompose\n",
    "#Perform seasonal decomposition\n",
    "result = seasonal_decompose(df['mean_ndvi'], model='additive', period=12)\n",
    "\n",
    "# Plot the components\n",
    "plt.figure(figsize=(11, 7))\n",
    "\n",
    "# Plot the components\n",
    "plt.figure(figsize=(11, 7))\n",
    "\n",
    "plt.subplot(411)\n",
    "plt.plot(result.observed, label='Observed')\n",
    "plt.legend()\n",
    "\n",
    "plt.subplot(412)\n",
    "plt.plot(result.trend, label='Trend')\n",
    "plt.legend()\n",
    "\n",
    "plt.subplot(413)\n",
    "plt.plot(result.seasonal, label='Seasonal')\n",
    "plt.legend()\n",
    "\n",
    "plt.subplot(414)\n",
    "plt.plot(result.resid, label='Residual')\n",
    "plt.legend()\n",
    "\n",
    "plt.suptitle('Seasonal Decomposition of NDVI', y=1.02)\n",
    "plt.show()"
   ]
  },
  {
   "cell_type": "code",
   "execution_count": null,
   "metadata": {
    "colab": {
     "base_uri": "https://localhost:8080/",
     "height": 17
    },
    "id": "6TGUqy6e6PV6",
    "outputId": "45338a3c-5125-48b4-b9f4-df5a480dc78e"
   },
   "outputs": [],
   "source": [
    "\n",
    "# Find minimum and maximum NDVI for each year\n",
    "#max_min = df.groupby('year')['mean_ndvi'].agg(['mean']).reset_index()\n",
    "#max_min"
   ]
  },
  {
   "cell_type": "markdown",
   "metadata": {
    "id": "rIt0dmyh18xf"
   },
   "source": [
    "### **Forecasting with Facebook Prophet**\n",
    "\n",
    "Facebook Prophet is a popular open-source forecasting tool developed by Facebook.\n",
    "\n",
    "\n",
    "Prophet is particularly well-suited for forecasting data with strong seasonal patterns and multiple seasonality. It can handle irregularly spaced time series data and automatically detect and incorporate holidays and other special events that may impact the forecast."
   ]
  },
  {
   "cell_type": "code",
   "execution_count": null,
   "metadata": {
    "colab": {
     "base_uri": "https://localhost:8080/",
     "height": 17
    },
    "id": "Bx16JQOH63vn",
    "outputId": "ff3e8563-76ef-4054-fe3d-a30e8120a95a"
   },
   "outputs": [],
   "source": [
    "from prophet import Prophet\n",
    "import warnings\n",
    "warnings.simplefilter('ignore')"
   ]
  },
  {
   "cell_type": "code",
   "execution_count": null,
   "metadata": {
    "colab": {
     "base_uri": "https://localhost:8080/",
     "height": 17
    },
    "id": "0GnYWJAY5ggF",
    "outputId": "9120723a-3db8-4664-d2f4-c28b515d1673"
   },
   "outputs": [],
   "source": [
    "df = df.reset_index('date')"
   ]
  },
  {
   "cell_type": "code",
   "execution_count": null,
   "metadata": {
    "colab": {
     "base_uri": "https://localhost:8080/",
     "height": 17
    },
    "id": "5fqjBiAu7tJO",
    "outputId": "4f4e63b9-9431-4506-c395-dcd7f7bd6189"
   },
   "outputs": [],
   "source": [
    "df.rename(columns={'date': 'ds','mean_ndvi':'y'},inplace=True)\n"
   ]
  },
  {
   "cell_type": "code",
   "execution_count": null,
   "metadata": {
    "colab": {
     "base_uri": "https://localhost:8080/",
     "height": 206
    },
    "id": "B5mC3i067-bM",
    "outputId": "033d9b8e-ff10-4534-b634-16cff8543427"
   },
   "outputs": [],
   "source": [
    "df.head()"
   ]
  },
  {
   "cell_type": "code",
   "execution_count": null,
   "metadata": {
    "colab": {
     "base_uri": "https://localhost:8080/",
     "height": 228
    },
    "id": "aJBsYHNY71oT",
    "outputId": "ccf5ad07-0b70-4282-cd22-c0dd8fd46363"
   },
   "outputs": [],
   "source": [
    "m = Prophet(interval_width=0.95)\n",
    "model = m.fit(df)"
   ]
  },
  {
   "cell_type": "code",
   "execution_count": null,
   "metadata": {
    "colab": {
     "base_uri": "https://localhost:8080/",
     "height": 206
    },
    "id": "_YK0KV4B75qH",
    "outputId": "0bea37e7-1075-436a-a598-51a69324fef7"
   },
   "outputs": [],
   "source": [
    "future = m.make_future_dataframe(periods=1825)\n",
    "forecast = m.predict(future)\n",
    "forecast[['ds', 'yhat', 'yhat_lower', 'yhat_upper']].tail()"
   ]
  },
  {
   "cell_type": "code",
   "execution_count": null,
   "metadata": {
    "colab": {
     "base_uri": "https://localhost:8080/",
     "height": 607
    },
    "id": "LzExYtRp6M_W",
    "outputId": "c6bf1146-dec3-4626-a2ce-ecdcbf5cc8db"
   },
   "outputs": [],
   "source": [
    "fig1 = m.plot(forecast)"
   ]
  },
  {
   "cell_type": "code",
   "execution_count": null,
   "metadata": {
    "colab": {
     "base_uri": "https://localhost:8080/",
     "height": 607
    },
    "id": "bfx32hDZ6pGF",
    "outputId": "66e02d4e-424f-426f-930f-1d00c1dfffd5"
   },
   "outputs": [],
   "source": [
    "fig2 = m.plot_components(forecast)\n"
   ]
  },
  {
   "cell_type": "code",
   "execution_count": null,
   "metadata": {
    "colab": {
     "base_uri": "https://localhost:8080/",
     "height": 617
    },
    "id": "WugdRf607BGA",
    "outputId": "d6c81890-2a70-4cb7-fcc5-b12c64b2305d"
   },
   "outputs": [],
   "source": [
    "from prophet.plot import plot_plotly, plot_components_plotly\n",
    "\n",
    "plot_plotly(m, forecast)"
   ]
  },
  {
   "cell_type": "code",
   "execution_count": null,
   "metadata": {
    "id": "rhNN_inA7MRE"
   },
   "outputs": [],
   "source": []
  }
 ],
 "metadata": {
  "colab": {
   "provenance": []
  },
  "kernelspec": {
   "display_name": "Python 3 (ipykernel)",
   "language": "python",
   "name": "python3"
  },
  "language_info": {
   "codemirror_mode": {
    "name": "ipython",
    "version": 3
   },
   "file_extension": ".py",
   "mimetype": "text/x-python",
   "name": "python",
   "nbconvert_exporter": "python",
   "pygments_lexer": "ipython3",
   "version": "3.11.11"
  },
  "widgets": {
   "application/vnd.jupyter.widget-state+json": {}
  }
 },
 "nbformat": 4,
 "nbformat_minor": 4
}
