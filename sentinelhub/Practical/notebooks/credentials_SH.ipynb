{
 "cells": [
  {
   "cell_type": "code",
   "execution_count": 1,
   "id": "872142e4-9880-4595-9872-06af72c2565d",
   "metadata": {},
   "outputs": [],
   "source": [
    "# read the credentials\n",
    "f = open('sentinelhub.id', 'r')\n",
    "for _ in range(3):\n",
    "    exec(f.readline())"
   ]
  },
  {
   "cell_type": "code",
   "execution_count": 2,
   "id": "0ca3a19f-c70e-4d40-8ea1-7795ffa70964",
   "metadata": {},
   "outputs": [
    {
     "name": "stdout",
     "output_type": "stream",
     "text": [
      "The value of parameter `instance_id` was updated to '249429ee-5c8f-4d29-8f91-3171b17578ad'\n",
      "The value of parameter `sh_client_id` was updated to '81d93c61-fd1a-46b8-bdea-627220d63f01'\n",
      "The value of parameter `sh_client_secret` was updated to 't6sVyeEuREhX61LJSU89gD82i75tmgCy'\n"
     ]
    }
   ],
   "source": [
    "!sentinelhub.config --instance_id \"$INSTANCE_ID\" --sh_client_id \"$CLIENT_ID\" --sh_client_secret \"$CLIENT_SECRET\""
   ]
  },
  {
   "cell_type": "code",
   "execution_count": null,
   "id": "21912532",
   "metadata": {},
   "outputs": [],
   "source": []
  },
  {
   "cell_type": "code",
   "execution_count": 3,
   "id": "d954492a-70e7-41ca-980c-64f2418e7ce4",
   "metadata": {},
   "outputs": [
    {
     "name": "stdout",
     "output_type": "stream",
     "text": [
      "{\n",
      "  \"instance_id\": \"249429ee-5c8f-4d29-8f91-3171b17578ad\",\n",
      "  \"sh_client_id\": \"81d93c61-fd1a-46b8-bdea-627220d63f01\",\n",
      "  \"sh_client_secret\": \"t6sVyeEuREhX61LJSU89gD82i75tmgCy\",\n",
      "  \"sh_base_url\": \"https://services.sentinel-hub.com\",\n",
      "  \"sh_auth_base_url\": null,\n",
      "  \"sh_token_url\": \"https://services.sentinel-hub.com/auth/realms/main/protocol/openid-connect/token\",\n",
      "  \"geopedia_wms_url\": \"https://service.geopedia.world\",\n",
      "  \"geopedia_rest_url\": \"https://www.geopedia.world/rest\",\n",
      "  \"aws_access_key_id\": \"\",\n",
      "  \"aws_secret_access_key\": \"\",\n",
      "  \"aws_session_token\": \"\",\n",
      "  \"aws_metadata_url\": \"https://roda.sentinel-hub.com\",\n",
      "  \"aws_s3_l1c_bucket\": \"sentinel-s2-l1c\",\n",
      "  \"aws_s3_l2a_bucket\": \"sentinel-s2-l2a\",\n",
      "  \"opensearch_url\": \"http://opensearch.sentinel-hub.com/resto/api/collections/Sentinel2\",\n",
      "  \"max_wfs_records_per_query\": 100,\n",
      "  \"max_opensearch_records_per_query\": 500,\n",
      "  \"max_download_attempts\": 4,\n",
      "  \"download_sleep_time\": 5.0,\n",
      "  \"download_timeout_seconds\": 120.0,\n",
      "  \"number_of_download_processes\": 1,\n",
      "  \"max_retries\": null\n",
      "}\n",
      "Configuration file location: C:\\Users\\Yves Zigashane\\.config\\sentinelhub\\config.toml\n"
     ]
    }
   ],
   "source": [
    "# confirm the values have been set \n",
    "!sentinelhub.config --show"
   ]
  },
  {
   "cell_type": "code",
   "execution_count": null,
   "id": "40e2c14c",
   "metadata": {},
   "outputs": [],
   "source": []
  }
 ],
 "metadata": {
  "kernelspec": {
   "display_name": "Python 3 (ipykernel)",
   "language": "python",
   "name": "python3"
  },
  "language_info": {
   "codemirror_mode": {
    "name": "ipython",
    "version": 3
   },
   "file_extension": ".py",
   "mimetype": "text/x-python",
   "name": "python",
   "nbconvert_exporter": "python",
   "pygments_lexer": "ipython3",
   "version": "3.10.16"
  }
 },
 "nbformat": 4,
 "nbformat_minor": 5
}
