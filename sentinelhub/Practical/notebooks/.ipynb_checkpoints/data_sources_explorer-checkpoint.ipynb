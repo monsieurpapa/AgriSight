{
 "cells": [
  {
   "cell_type": "markdown",
   "metadata": {},
   "source": [
    "# Data-sources exploration using `eo-learn`"
   ]
  },
  {
   "cell_type": "markdown",
   "metadata": {},
   "source": [
    "This notebook is adapted based on the `data_sources_explorer.ipynb` from the [eo-learn-workshop](https://github.com/sentinel-hub/eo-learn-workshop).\n",
    "\n",
    "The steps are as follow:\n",
    " * load an area bounding box\n",
    " * add Sentinel-2 imaging data\n",
    " * add Sentinel-1 imaging data"
   ]
  },
  {
   "cell_type": "markdown",
   "metadata": {},
   "source": [
    "Add generic packages"
   ]
  },
  {
   "cell_type": "code",
   "execution_count": 1,
   "metadata": {},
   "outputs": [],
   "source": [
    "%matplotlib inline\n",
    "\n",
    "import os\n",
    "from pathlib import Path\n",
    "\n",
    "from matplotlib import dates\n",
    "from mpl_toolkits.axes_grid1 import make_axes_locatable\n",
    "from shapely.geometry import Polygon, box\n",
    "import matplotlib.pyplot as plt\n",
    "import geopandas as gpd\n",
    "import numpy as np"
   ]
  },
  {
   "cell_type": "markdown",
   "metadata": {},
   "source": [
    "Set path to data"
   ]
  },
  {
   "cell_type": "code",
   "execution_count": 2,
   "metadata": {},
   "outputs": [
    {
     "data": {
      "text/plain": [
       "['denmark.geojson',\n",
       " 'denmark_bbox.geojson',\n",
       " 'land_use_10class_reference_slovenia_partial.gpkg',\n",
       " 'statapi_kranj.geojson',\n",
       " 'svn_border.geojson']"
      ]
     },
     "execution_count": 2,
     "metadata": {},
     "output_type": "execute_result"
    }
   ],
   "source": [
    "data_dir = Path('..', 'data')\n",
    "os.listdir(data_dir)"
   ]
  },
  {
   "cell_type": "markdown",
   "metadata": {},
   "source": [
    "`eo-learn` and `sentinelhub` imports"
   ]
  },
  {
   "cell_type": "code",
   "execution_count": 3,
   "metadata": {},
   "outputs": [
    {
     "ename": "ModuleNotFoundError",
     "evalue": "No module named 'eolearn'",
     "output_type": "error",
     "traceback": [
      "\u001b[1;31m---------------------------------------------------------------------------\u001b[0m",
      "\u001b[1;31mModuleNotFoundError\u001b[0m                       Traceback (most recent call last)",
      "Cell \u001b[1;32mIn[3], line 1\u001b[0m\n\u001b[1;32m----> 1\u001b[0m \u001b[38;5;28;01mfrom\u001b[39;00m\u001b[38;5;250m \u001b[39m\u001b[38;5;21;01meolearn\u001b[39;00m\u001b[38;5;21;01m.\u001b[39;00m\u001b[38;5;21;01mcore\u001b[39;00m\u001b[38;5;250m \u001b[39m\u001b[38;5;28;01mimport\u001b[39;00m FeatureType\u001b[38;5;66;03m#EOTask, EOPatch, \u001b[39;00m\n\u001b[0;32m      2\u001b[0m \u001b[38;5;28;01mfrom\u001b[39;00m\u001b[38;5;250m \u001b[39m\u001b[38;5;21;01meolearn\u001b[39;00m\u001b[38;5;21;01m.\u001b[39;00m\u001b[38;5;21;01mio\u001b[39;00m\u001b[38;5;250m \u001b[39m\u001b[38;5;28;01mimport\u001b[39;00m SentinelHubInputTask, SentinelHubEvalscriptTask\n",
      "\u001b[1;31mModuleNotFoundError\u001b[0m: No module named 'eolearn'"
     ]
    }
   ],
   "source": [
    "from eolearn.core import FeatureType#EOTask, EOPatch, \n",
    "from eolearn.io import SentinelHubInputTask, SentinelHubEvalscriptTask"
   ]
  },
  {
   "cell_type": "code",
   "execution_count": null,
   "metadata": {},
   "outputs": [],
   "source": [
    "from sentinelhub import BBox, DataCollection"
   ]
  },
  {
   "cell_type": "code",
   "execution_count": null,
   "metadata": {},
   "outputs": [],
   "source": [
    "gdf = gpd.read_file(Path.joinpath(data_dir,\"denmark_bbox.geojson\"))"
   ]
  },
  {
   "cell_type": "markdown",
   "metadata": {},
   "source": [
    "## 1. Retrieve S2 L1C data <a id=\"sentinel-2\"></a>"
   ]
  },
  {
   "cell_type": "code",
   "execution_count": null,
   "metadata": {},
   "outputs": [],
   "source": [
    "s2_rgb_task = SentinelHubInputTask(\n",
    "    data_collection=DataCollection.SENTINEL2_L1C,\n",
    "    bands=['B04', 'B03', 'B02'],\n",
    "    bands_feature=(FeatureType.DATA, 'S2-RGB'),\n",
    "    additional_data=[(FeatureType.MASK, 'dataMask')],\n",
    "    resolution=(10, 10),\n",
    "    maxcc=0.1\n",
    ")"
   ]
  },
  {
   "cell_type": "code",
   "execution_count": null,
   "metadata": {},
   "outputs": [],
   "source": [
    "ndvi_evalscript = \"\"\"\n",
    "//VERSION=3\n",
    "\n",
    "function setup() {\n",
    "  return {\n",
    "    input: [\"B04\", \"B08\"],\n",
    "    output:[\n",
    "      {\n",
    "        id: \"ndvi\",\n",
    "        bands: 1,\n",
    "        sampleType: SampleType.FLOAT32\n",
    "      },\n",
    "    ]\n",
    "  }\n",
    "}\n",
    "\n",
    "function evaluatePixel(sample) {\n",
    "  let ndvi = index(sample.B08, sample.B04);\n",
    "  return {\n",
    "    ndvi: [ndvi],\n",
    "  };\n",
    "}\n",
    "\"\"\"\n",
    "\n",
    "s2_ndvi_task = SentinelHubEvalscriptTask(\n",
    "    features=[(FeatureType.DATA, 'ndvi', 'NDVI')],\n",
    "    evalscript=ndvi_evalscript,\n",
    "    data_collection=DataCollection.SENTINEL2_L1C,\n",
    "    resolution=(10, 10),\n",
    "    maxcc=0.1\n",
    ")"
   ]
  },
  {
   "cell_type": "code",
   "execution_count": null,
   "metadata": {},
   "outputs": [],
   "source": [
    "time_interval = ['2019-05-01','2019-09-01']\n",
    "idx = 436\n",
    "bbox = BBox(gdf.loc[idx].geometry.bounds, gdf.crs)"
   ]
  },
  {
   "cell_type": "markdown",
   "metadata": {},
   "source": [
    "Download TRUE-COLOR"
   ]
  },
  {
   "cell_type": "code",
   "execution_count": null,
   "metadata": {},
   "outputs": [],
   "source": [
    "eopatch = s2_rgb_task.execute(bbox=bbox, time_interval=time_interval)\n",
    "\n",
    "eopatch"
   ]
  },
  {
   "cell_type": "markdown",
   "metadata": {},
   "source": [
    "Download NDVI"
   ]
  },
  {
   "cell_type": "code",
   "execution_count": null,
   "metadata": {},
   "outputs": [],
   "source": [
    "eopatch = s2_ndvi_task.execute(eopatch)\n",
    "\n",
    "eopatch"
   ]
  },
  {
   "cell_type": "code",
   "execution_count": null,
   "metadata": {},
   "outputs": [],
   "source": [
    "eopatch.timestamp"
   ]
  },
  {
   "cell_type": "markdown",
   "metadata": {},
   "source": [
    "Plot RGB of time frames"
   ]
  },
  {
   "cell_type": "code",
   "execution_count": null,
   "metadata": {},
   "outputs": [],
   "source": [
    "time_idx = 0\n",
    "\n",
    "rgb = eopatch.data['S2-RGB']\n",
    "\n",
    "fig, ax = plt.subplots(figsize=(15, 15))\n",
    "ax.imshow(rgb[time_idx] * 3.5);"
   ]
  },
  {
   "cell_type": "markdown",
   "metadata": {},
   "source": [
    "Plot the median RGB values"
   ]
  },
  {
   "cell_type": "code",
   "execution_count": null,
   "metadata": {},
   "outputs": [],
   "source": [
    "fig, ax = plt.subplots(figsize=(15, 15))\n",
    "\n",
    "ax.imshow(np.median(rgb, axis=0).squeeze() * 3.5);"
   ]
  },
  {
   "cell_type": "markdown",
   "metadata": {},
   "source": [
    "Plot the median NDVI values"
   ]
  },
  {
   "cell_type": "code",
   "execution_count": null,
   "metadata": {},
   "outputs": [],
   "source": [
    "ndvi = eopatch.data['NDVI']\n",
    "median_ndvi = np.median(ndvi, axis=0).squeeze()\n",
    "\n",
    "fig, ax = plt.subplots(figsize=(15,15))\n",
    "im = ax.imshow(median_ndvi, cmap=plt.cm.YlGn)\n",
    "\n",
    "divider = make_axes_locatable(ax)\n",
    "cax = divider.append_axes('right', size='5%', pad=0.05)\n",
    "fig.colorbar(im, cax=cax, orientation='vertical');"
   ]
  },
  {
   "cell_type": "markdown",
   "metadata": {},
   "source": [
    "Plot temporal NDVI of a given location"
   ]
  },
  {
   "cell_type": "code",
   "execution_count": null,
   "metadata": {},
   "outputs": [],
   "source": [
    "dates_num = dates.date2num(eopatch.timestamp)\n",
    "dates_str = [timestamp.date().isoformat() for timestamp in eopatch.timestamp]\n",
    "\n",
    "fig, ax = plt.subplots(figsize=(15, 15))\n",
    "ax.plot(dates_num, ndvi[:, 100, 550, :].squeeze(), 'g')\n",
    "\n",
    "ax.set_title('NDVI evolution')\n",
    "ax.set_xticks(dates_num);\n",
    "ax.set_xticklabels(dates_str, rotation=45, ha='right');\n",
    "ax.set_ylabel('NDVI');"
   ]
  },
  {
   "cell_type": "markdown",
   "metadata": {},
   "source": [
    "## 4. Retrieve S1 data <a id=\"sentinel-1\"></a>"
   ]
  },
  {
   "cell_type": "code",
   "execution_count": null,
   "metadata": {},
   "outputs": [],
   "source": [
    "s1_iw_des_task = SentinelHubInputTask(\n",
    "    data_collection=DataCollection.SENTINEL1_IW_DES,\n",
    "    bands=['VV'],\n",
    "    bands_feature=(FeatureType.DATA, 'S1-IW-DES'),\n",
    "    additional_data=[(FeatureType.MASK, 'dataMask')],\n",
    "    resolution=(10, 10)\n",
    ")\n",
    "\n",
    "s1_iw_asc_task = SentinelHubInputTask(\n",
    "    data_collection=DataCollection.SENTINEL1_IW_ASC,\n",
    "    bands=['VV'],\n",
    "    bands_feature=(FeatureType.DATA, 'S1-IW-ASC'),\n",
    "    additional_data=[(FeatureType.MASK, 'dataMask')],\n",
    "    resolution=(10, 10)\n",
    ")"
   ]
  },
  {
   "cell_type": "code",
   "execution_count": null,
   "metadata": {},
   "outputs": [],
   "source": [
    "eopatch_s1_des = s1_iw_des_task.execute(bbox=bbox, time_interval=['2019-07-01','2019-08-01'])\n",
    "\n",
    "eopatch_s1_des"
   ]
  },
  {
   "cell_type": "code",
   "execution_count": null,
   "metadata": {},
   "outputs": [],
   "source": [
    "vv_data = eopatch_s1_des.data['S1-IW-DES']\n",
    "vv_data[np.isnan(vv_data)] = 0\n",
    "\n",
    "vv_des_r = np.percentile(vv_data, 80, axis=0)\n",
    "vv_des_g = np.percentile(vv_data, 20, axis=0)\n",
    "vv_des_b = np.std(vv_data, axis=0)\n",
    "\n",
    "vv_rgb = np.concatenate((vv_des_r, vv_des_g, vv_des_b), axis=-1)\n",
    "\n",
    "plt.figure(figsize=(15, 15))\n",
    "plt.imshow(vv_rgb);"
   ]
  },
  {
   "cell_type": "code",
   "execution_count": null,
   "metadata": {},
   "outputs": [],
   "source": [
    "eopatch_s1_asc = s1_iw_asc_task.execute(bbox=bbox, time_interval=['2019-07-01','2019-08-01'])\n",
    "\n",
    "eopatch_s1_asc"
   ]
  },
  {
   "cell_type": "code",
   "execution_count": null,
   "metadata": {},
   "outputs": [],
   "source": [
    "vv_data = eopatch_s1_asc.data['S1-IW-ASC']\n",
    "vv_data[np.isnan(vv_data)] = 0\n",
    "\n",
    "vv_des_r = vv_data[0]\n",
    "vv_des_g = vv_data[2]\n",
    "vv_des_b = vv_data[10]\n",
    "\n",
    "vv_rgb = np.concatenate((vv_des_r, vv_des_g, vv_des_b), axis=-1)\n",
    "\n",
    "plt.figure(figsize=(15, 15))\n",
    "plt.imshow(vv_rgb);"
   ]
  },
  {
   "cell_type": "markdown",
   "metadata": {},
   "source": [
    "Similarly, Sentinel-2 L2A data can be added, as well as Digital Elevation data"
   ]
  }
 ],
 "metadata": {
  "kernelspec": {
   "display_name": "Python 3 (ipykernel)",
   "language": "python",
   "name": "python3"
  },
  "language_info": {
   "codemirror_mode": {
    "name": "ipython",
    "version": 3
   },
   "file_extension": ".py",
   "mimetype": "text/x-python",
   "name": "python",
   "nbconvert_exporter": "python",
   "pygments_lexer": "ipython3",
   "version": "3.10.16"
  }
 },
 "nbformat": 4,
 "nbformat_minor": 4
}
